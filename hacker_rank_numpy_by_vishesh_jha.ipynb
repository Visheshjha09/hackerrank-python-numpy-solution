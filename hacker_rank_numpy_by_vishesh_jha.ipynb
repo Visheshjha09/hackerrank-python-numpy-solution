{
 "cells": [
  {
   "cell_type": "markdown",
   "metadata": {},
   "source": [
    "SOLUTION OF NUMPY SECTION OF PYTHON IN HACKER RANK"
   ]
  },
  {
   "cell_type": "markdown",
   "metadata": {},
   "source": [
    "queston 1: np- array\n",
    "link-https://www.hackerrank.com/challenges/np-arrays/problem\n"
   ]
  },
  {
   "cell_type": "code",
   "execution_count": 2,
   "metadata": {},
   "outputs": [
    {
     "name": "stdout",
     "output_type": "stream",
     "text": [
      "1 2 3 4 5 6\n",
      "[6. 5. 4. 3. 2. 1.]\n"
     ]
    }
   ],
   "source": [
    "import numpy\n",
    "\n",
    "def arrays(arr):\n",
    "    # complete this function\n",
    "    # use numpy.array\n",
    "    \n",
    "    return numpy.array(arr[::-1],float)\n",
    "    \n",
    "\n",
    "arr = input().strip().split(' ')\n",
    "print(arrays(arr))"
   ]
  },
  {
   "cell_type": "markdown",
   "metadata": {},
   "source": [
    "question 2: np- shape-reshape\n",
    "link-https://www.hackerrank.com/challenges/np-shape-reshape/problem"
   ]
  },
  {
   "cell_type": "code",
   "execution_count": 3,
   "metadata": {},
   "outputs": [
    {
     "name": "stdout",
     "output_type": "stream",
     "text": [
      "1 2 3 4 5 6 7 8 9\n",
      "[[1 2 3]\n",
      " [4 5 6]\n",
      " [7 8 9]]\n"
     ]
    }
   ],
   "source": [
    "import numpy as np\n",
    "\n",
    "b=input().strip().split(\" \")\n",
    "b=np.array(b,int)\n",
    "b.shape=(3,3)\n",
    "print(b)\n"
   ]
  },
  {
   "cell_type": "markdown",
   "metadata": {},
   "source": [
    "question 3:Transpose and Flatten\n",
    "link-https://www.hackerrank.com/challenges/np-transpose-and-flatten/problem"
   ]
  },
  {
   "cell_type": "code",
   "execution_count": 4,
   "metadata": {},
   "outputs": [
    {
     "name": "stdout",
     "output_type": "stream",
     "text": [
      "3 2\n",
      "2 3 \n",
      "3 4\n",
      "5 3\n",
      "[[2 3 5]\n",
      " [3 4 3]]\n",
      "[2 3 3 4 5 3]\n"
     ]
    }
   ],
   "source": [
    "import numpy as np\n",
    "n,m=map(int,input().split())\n",
    "b=np.array([input().split() for i in range(n)],int)\n",
    "print(np.transpose(b))\n",
    "print(b.flatten())"
   ]
  },
  {
   "cell_type": "markdown",
   "metadata": {},
   "source": [
    "question 4:Concatenate\n",
    "link-https://www.hackerrank.com/challenges/np-concatenate/problem    "
   ]
  },
  {
   "cell_type": "code",
   "execution_count": 5,
   "metadata": {},
   "outputs": [
    {
     "name": "stdout",
     "output_type": "stream",
     "text": [
      "4 3 2\n",
      "1 2\n",
      "1 2\n",
      "1 2\n",
      "1 2\n",
      "3 4\n",
      "3 4\n",
      "3 4\n",
      "[[1 2]\n",
      " [1 2]\n",
      " [1 2]\n",
      " [1 2]\n",
      " [3 4]\n",
      " [3 4]\n",
      " [3 4]]\n"
     ]
    }
   ],
   "source": [
    "import numpy \n",
    "n,m,p=map(int,input().split(\" \"))\n",
    "a=numpy.array([input().split() for i in range(n)],int)\n",
    "b=numpy.array([input().split() for i in range(m)],int)\n",
    "print(numpy.concatenate((a,b)))\n"
   ]
  },
  {
   "cell_type": "markdown",
   "metadata": {},
   "source": [
    "question 5-Zeros and Ones\n",
    "link-https://www.hackerrank.com/challenges/np-zeros-and-ones/problem"
   ]
  },
  {
   "cell_type": "code",
   "execution_count": 7,
   "metadata": {},
   "outputs": [
    {
     "name": "stdout",
     "output_type": "stream",
     "text": [
      "3 3 3\n",
      "[[[0 0 0]\n",
      "  [0 0 0]\n",
      "  [0 0 0]]\n",
      "\n",
      " [[0 0 0]\n",
      "  [0 0 0]\n",
      "  [0 0 0]]\n",
      "\n",
      " [[0 0 0]\n",
      "  [0 0 0]\n",
      "  [0 0 0]]]\n",
      "[[[1 1 1]\n",
      "  [1 1 1]\n",
      "  [1 1 1]]\n",
      "\n",
      " [[1 1 1]\n",
      "  [1 1 1]\n",
      "  [1 1 1]]\n",
      "\n",
      " [[1 1 1]\n",
      "  [1 1 1]\n",
      "  [1 1 1]]]\n"
     ]
    }
   ],
   "source": [
    "import numpy\n",
    "#touple is used cz input can be of more than 3d as well\n",
    "\n",
    "n = tuple(map(int,input().split()))\n",
    "print(numpy.zeros((n),dtype=numpy.int))\n",
    "print(numpy.ones((n),dtype=numpy.int))\n"
   ]
  },
  {
   "cell_type": "markdown",
   "metadata": {},
   "source": [
    "question 5-Eye and Identity\n",
    "link-https://www.hackerrank.com/challenges/np-eye-and-identity/problem"
   ]
  },
  {
   "cell_type": "code",
   "execution_count": 8,
   "metadata": {},
   "outputs": [
    {
     "name": "stdout",
     "output_type": "stream",
     "text": [
      "3 3\n",
      "[[ 1.  0.  0.]\n",
      " [ 0.  1.  0.]\n",
      " [ 0.  0.  1.]]\n"
     ]
    }
   ],
   "source": [
    "import numpy\n",
    "print(str(numpy.eye(*map(int,input().split()))).replace('1',' 1').replace('0',' 0'))"
   ]
  },
  {
   "cell_type": "markdown",
   "metadata": {},
   "source": [
    "question 6-Array Mathematics\n",
    "link-https://www.hackerrank.com/challenges/np-array-mathematics/problem"
   ]
  },
  {
   "cell_type": "code",
   "execution_count": 11,
   "metadata": {},
   "outputs": [
    {
     "name": "stdout",
     "output_type": "stream",
     "text": [
      "1 4\n",
      "1 2 3 4\n",
      "5 6 7 8\n",
      "[[ 6  8 10 12]]\n",
      "[[-4 -4 -4 -4]]\n",
      "[[ 5 12 21 32]]\n",
      "[[0 0 0 0]]\n",
      "[[1 2 3 4]]\n",
      "[[    1    64  2187 65536]]\n"
     ]
    }
   ],
   "source": [
    "import numpy\n",
    "n,m=map(int,input().split())\n",
    "a=numpy.array([input().split() for i in range(n)],int)\n",
    "b=numpy.array([input().split() for i in range(n)],int)\n",
    "print(a+b)\n",
    "print(a-b)\n",
    "print(a*b)\n",
    "print(a//b)\n",
    "print(a%b)\n",
    "print(a**b)\n",
    "\n"
   ]
  },
  {
   "cell_type": "markdown",
   "metadata": {},
   "source": [
    "question 7-Floor, Ceil and Rint\n",
    "link-https://www.hackerrank.com/challenges/floor-ceil-and-rint/problem"
   ]
  },
  {
   "cell_type": "code",
   "execution_count": 10,
   "metadata": {},
   "outputs": [
    {
     "name": "stdout",
     "output_type": "stream",
     "text": [
      "1.1 2.2 3.3 4.4 5.5 6.6 7.7 8.8 9.9\n",
      "[ 1.  2.  3.  4.  5.  6.  7.  8.  9.]\n",
      "[  2.   3.   4.   5.   6.   7.   8.   9.  10.]\n",
      "[  1.   2.   3.   4.   6.   7.   8.   9.  10.]\n"
     ]
    }
   ],
   "source": [
    "import numpy\n",
    "numpy.set_printoptions(sign=' ')\n",
    "b=list(map(float,input().split()))\n",
    "b=numpy.array(b,float)\n",
    "print(numpy.floor(b))\n",
    "print(numpy.ceil(b))\n",
    "print(numpy.rint(b))\n"
   ]
  },
  {
   "cell_type": "markdown",
   "metadata": {},
   "source": [
    "question 8-Sum and Prod\n",
    "link-https://www.hackerrank.com/challenges/np-sum-and-prod/problem"
   ]
  },
  {
   "cell_type": "code",
   "execution_count": 12,
   "metadata": {},
   "outputs": [
    {
     "name": "stdout",
     "output_type": "stream",
     "text": [
      "2 2\n",
      "1 2\n",
      "3 4\n",
      "24\n"
     ]
    }
   ],
   "source": [
    "import numpy\n",
    "\n",
    "n,m=map(int,input().split())\n",
    "a=numpy.array([input().split() for i in range(n)],int)\n",
    "print(numpy.prod(numpy.sum(a,axis=0),axis=0))\n"
   ]
  },
  {
   "cell_type": "markdown",
   "metadata": {},
   "source": [
    "question 9-Min and Max\n",
    "link-https://www.hackerrank.com/challenges/np-min-and-max/problem"
   ]
  },
  {
   "cell_type": "code",
   "execution_count": 13,
   "metadata": {},
   "outputs": [
    {
     "name": "stdout",
     "output_type": "stream",
     "text": [
      "4 2\n",
      "2 5\n",
      "3 7\n",
      "1 3\n",
      "4 0\n",
      "3\n"
     ]
    }
   ],
   "source": [
    "import numpy\n",
    "\n",
    "n,m=map(int,input().split())\n",
    "a=numpy.array([input().split() for i in range(n)],int)\n",
    "\n",
    "print(numpy.max(numpy.min((a),axis=1)))"
   ]
  },
  {
   "cell_type": "markdown",
   "metadata": {},
   "source": [
    "question 10-Mean, Var, and Std\n",
    "link- https://www.hackerrank.com/challenges/np-mean-var-and-std/problem"
   ]
  },
  {
   "cell_type": "code",
   "execution_count": 15,
   "metadata": {},
   "outputs": [
    {
     "name": "stdout",
     "output_type": "stream",
     "text": [
      "2 2\n",
      "1 2\n",
      "3 4\n",
      "[ 1.5  3.5]\n",
      "[ 1.  1.]\n",
      "1.11803398875\n"
     ]
    }
   ],
   "source": [
    "import numpy as np\n",
    "n,m=map(int,input().split())\n",
    "c=np.array([input().split() for i in range(n)],int)\n",
    "numpy.set_printoptions(legacy='1.13')\n",
    "print(np.mean(c,axis=1))\n",
    "print(np.var(c,axis=0))\n",
    "print(np.std(c))\n"
   ]
  },
  {
   "cell_type": "markdown",
   "metadata": {},
   "source": [
    "question 11-Dot and Cross\n",
    "link-https://www.hackerrank.com/challenges/np-dot-and-cross/problem\n"
   ]
  },
  {
   "cell_type": "code",
   "execution_count": 18,
   "metadata": {},
   "outputs": [
    {
     "name": "stdout",
     "output_type": "stream",
     "text": [
      "2 \n",
      "1 2\n",
      "3 4\n",
      "1 2\n",
      "3 4\n",
      "[[ 7 10]\n",
      " [15 22]]\n"
     ]
    }
   ],
   "source": [
    "import numpy as np\n",
    "n=int(input())\n",
    "a=np.array([input().split() for i in range(n)],int)\n",
    "b=np.array([input().split() for i in range(n)],int)\n",
    "print(np.dot(a,b))"
   ]
  },
  {
   "cell_type": "markdown",
   "metadata": {},
   "source": [
    "question 12-Inner and Outer\n",
    "link-https://www.hackerrank.com/challenges/np-inner-and-outer/problem"
   ]
  },
  {
   "cell_type": "code",
   "execution_count": 19,
   "metadata": {},
   "outputs": [
    {
     "name": "stdout",
     "output_type": "stream",
     "text": [
      "0 1\n",
      "2 3\n",
      "3\n",
      "[[0 0]\n",
      " [2 3]]\n"
     ]
    }
   ],
   "source": [
    "import numpy\n",
    "\n",
    "b=input().split()\n",
    "c=input().split()\n",
    "A=numpy.array(b,int)\n",
    "B=numpy.array(c,int)\n",
    "print(numpy.inner(A, B)) \n",
    "print(numpy.outer(A, B))\n"
   ]
  },
  {
   "cell_type": "markdown",
   "metadata": {},
   "source": [
    "question 13-Polynomials\n",
    "link-https://www.hackerrank.com/challenges/np-polynomials/problem"
   ]
  },
  {
   "cell_type": "code",
   "execution_count": 21,
   "metadata": {},
   "outputs": [
    {
     "name": "stdout",
     "output_type": "stream",
     "text": [
      "1.1 2 3\n",
      "0\n",
      "3.0\n"
     ]
    }
   ],
   "source": [
    "import numpy\n",
    "\n",
    "n=numpy.array(input().split(),float)\n",
    "b=float(input())\n",
    "print(numpy.polyval(n,b))\n",
    "\n"
   ]
  },
  {
   "cell_type": "markdown",
   "metadata": {},
   "source": [
    "question 14-Linear Algebra\n",
    "link-https://www.hackerrank.com/challenges/np-linear-algebra/problem"
   ]
  },
  {
   "cell_type": "code",
   "execution_count": 23,
   "metadata": {},
   "outputs": [
    {
     "name": "stdout",
     "output_type": "stream",
     "text": [
      "2\n",
      "1.1 1.1\n",
      "1.1 1.1\n",
      "[['1.1' '1.1']\n",
      " ['1.1' '1.1']]\n"
     ]
    }
   ],
   "source": [
    "import numpy\n",
    "n=int(input())\n",
    "b=numpy.array([input().split() for i in range(n)]) \n",
    "print(b)"
   ]
  },
  {
   "cell_type": "code",
   "execution_count": null,
   "metadata": {},
   "outputs": [],
   "source": []
  }
 ],
 "metadata": {
  "kernelspec": {
   "display_name": "Python 3",
   "language": "python",
   "name": "python3"
  },
  "language_info": {
   "codemirror_mode": {
    "name": "ipython",
    "version": 3
   },
   "file_extension": ".py",
   "mimetype": "text/x-python",
   "name": "python",
   "nbconvert_exporter": "python",
   "pygments_lexer": "ipython3",
   "version": "3.8.3"
  }
 },
 "nbformat": 4,
 "nbformat_minor": 4
}
